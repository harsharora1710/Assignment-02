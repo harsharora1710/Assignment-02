{
 "cells": [
  {
   "cell_type": "code",
   "execution_count": 1,
   "id": "360e439d-f7ee-4ea1-88d9-91c17a9e427b",
   "metadata": {},
   "outputs": [],
   "source": [
    "# Q1) We use hash symbol to comment in python"
   ]
  },
  {
   "cell_type": "code",
   "execution_count": 3,
   "id": "de607b96-a5af-40c1-84c6-d758262c32de",
   "metadata": {},
   "outputs": [],
   "source": [
    "#single line comment and multi line comment\n",
    "#for multi line comment we can use # symbol in starting of each line"
   ]
  },
  {
   "cell_type": "code",
   "execution_count": 4,
   "id": "700b3996-ecd2-4c38-b8ba-95d126845736",
   "metadata": {},
   "outputs": [],
   "source": [
    "#Q2) variables are like containers that can store any type of data.\n",
    "#We do not need to declare variables but gets declared when intialised.\n",
    "#We dont need to assign data type to it. It detects the data type automatically."
   ]
  },
  {
   "cell_type": "code",
   "execution_count": 5,
   "id": "fadb6de7-3f2e-4f64-80b5-9193b17b7f5c",
   "metadata": {},
   "outputs": [],
   "source": [
    "x=2"
   ]
  },
  {
   "cell_type": "code",
   "execution_count": 6,
   "id": "cc404274-896c-4553-a58d-98f0b80db4ee",
   "metadata": {},
   "outputs": [],
   "source": [
    "y=\"harsh\""
   ]
  },
  {
   "cell_type": "code",
   "execution_count": 7,
   "id": "d8c665dd-ca84-4052-ae5c-ad723a23c57e",
   "metadata": {},
   "outputs": [
    {
     "name": "stdin",
     "output_type": "stream",
     "text": [
      " 2\n"
     ]
    }
   ],
   "source": [
    "# Q3) we use type casting for converting one data type to another.\n",
    "x=int(input())\n",
    "#here x takes a string as input and typecasted it into integer\n"
   ]
  },
  {
   "cell_type": "code",
   "execution_count": 8,
   "id": "6b8be7ed-8015-490f-af88-9ef7813569fd",
   "metadata": {},
   "outputs": [],
   "source": [
    "#q4)\n",
    "#First we have to create a new file with a .py extension and Python code in the file.\n",
    "#Open a command prompt or terminal.Navigate to the directory where the script is saved using the cd command.\n",
    "#Execute the script by running python filename.py.The script will be executed, and the output will be displayed in the command prompt or terminal."
   ]
  },
  {
   "cell_type": "code",
   "execution_count": 10,
   "id": "51bf5ce1-ea3d-4414-8cfe-181a49961129",
   "metadata": {},
   "outputs": [
    {
     "data": {
      "text/plain": [
       "[2, 3]"
      ]
     },
     "execution_count": 10,
     "metadata": {},
     "output_type": "execute_result"
    }
   ],
   "source": [
    "#q5)\n",
    "my_list = [1, 2, 3, 4, 5]\n",
    "my_list[1:3]"
   ]
  },
  {
   "cell_type": "code",
   "execution_count": 15,
   "id": "2a7ed381-a651-4f73-938d-dce37ea95ab5",
   "metadata": {},
   "outputs": [
    {
     "data": {
      "text/plain": [
       "3.0"
      ]
     },
     "execution_count": 15,
     "metadata": {},
     "output_type": "execute_result"
    }
   ],
   "source": [
    "#q6)\n",
    "#Complex number is a number that can have both complex and imaginary part.\n",
    "#it is represented as\n",
    "a=3+2j\n",
    "a.real"
   ]
  },
  {
   "cell_type": "code",
   "execution_count": 16,
   "id": "8aafa023-9d18-470b-98c4-4bd1d0efa927",
   "metadata": {},
   "outputs": [
    {
     "data": {
      "text/plain": [
       "2.0"
      ]
     },
     "execution_count": 16,
     "metadata": {},
     "output_type": "execute_result"
    }
   ],
   "source": [
    "a.imag"
   ]
  },
  {
   "cell_type": "code",
   "execution_count": 1,
   "id": "6837fa9c-2753-4d06-91f0-fb8acc83e443",
   "metadata": {},
   "outputs": [],
   "source": [
    "#q7)\n",
    "age=25"
   ]
  },
  {
   "cell_type": "code",
   "execution_count": 2,
   "id": "eba2ac45-c657-406e-9b31-e1c9eec0cb8e",
   "metadata": {},
   "outputs": [],
   "source": [
    "#q8)\n",
    "price=9.99\n"
   ]
  },
  {
   "cell_type": "code",
   "execution_count": 3,
   "id": "ebe762fc-b18e-4437-809d-021d07cebb8f",
   "metadata": {},
   "outputs": [
    {
     "data": {
      "text/plain": [
       "float"
      ]
     },
     "execution_count": 3,
     "metadata": {},
     "output_type": "execute_result"
    }
   ],
   "source": [
    "type(price)"
   ]
  },
  {
   "cell_type": "code",
   "execution_count": 4,
   "id": "ea404d06-7653-4bcd-b9bf-d1f8fbb46535",
   "metadata": {},
   "outputs": [],
   "source": [
    "#q9)\n",
    "name=\"harsh arora\""
   ]
  },
  {
   "cell_type": "code",
   "execution_count": 5,
   "id": "4687db66-7253-4956-9f0a-71ecc8efedc5",
   "metadata": {},
   "outputs": [
    {
     "data": {
      "text/plain": [
       "'harsh arora'"
      ]
     },
     "execution_count": 5,
     "metadata": {},
     "output_type": "execute_result"
    }
   ],
   "source": [
    "name"
   ]
  },
  {
   "cell_type": "code",
   "execution_count": null,
   "id": "b14b50dc-e2e2-4447-a3b1-f0daee58a9dc",
   "metadata": {},
   "outputs": [],
   "source": []
  }
 ],
 "metadata": {
  "kernelspec": {
   "display_name": "Python 3 (ipykernel)",
   "language": "python",
   "name": "python3"
  },
  "language_info": {
   "codemirror_mode": {
    "name": "ipython",
    "version": 3
   },
   "file_extension": ".py",
   "mimetype": "text/x-python",
   "name": "python",
   "nbconvert_exporter": "python",
   "pygments_lexer": "ipython3",
   "version": "3.10.8"
  }
 },
 "nbformat": 4,
 "nbformat_minor": 5
}
